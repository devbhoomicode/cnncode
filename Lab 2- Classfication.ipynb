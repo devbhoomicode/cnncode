{
 "cells": [
  {
   "cell_type": "code",
   "execution_count": 52,
   "id": "dafeb717",
   "metadata": {},
   "outputs": [],
   "source": [
    "# Import the n"
   ]
  },
  {
   "cell_type": "code",
   "execution_count": 53,
   "id": "1a56b3e9",
   "metadata": {},
   "outputs": [],
   "source": [
    "from osgeo import gdal\n",
    "import geopandas as gdp\n",
    "import numpy as np\n",
    "import matplotlib.pyplot as plt\n",
    "from sklearn import ensemble, model_selection"
   ]
  },
  {
   "cell_type": "markdown",
   "id": "cafb73ad",
   "metadata": {},
   "source": [
    "## Data info \n",
    "Following data are used in this exersize\n",
    "- Raste Data : Landsat 8 data \n",
    "    We are using the stack images given in the folder data/LC08_L1TP_146039_20211229_20220106_01_T1\n",
    "    -- LC08_L1TP_146039_20211229_20220106_01_T1_stack.tif \n",
    "        has 12 bands in the order (B1,B2,B3,B4,B5,B6,B7,B9,B10,B11,BQA). We will use the seven bands from B1-7 in this exersise.\n",
    "- Vector data : 100 Sample points generate using the QGIS. \n",
    "   It contains the attributes \n",
    "   -- rand_point : Id of the random point generated\n",
    "   -- Class : Integer represeting the classes (1:Snow/Clouds, 2:Waste Land , 3:Forest , 4: , 5: )"
   ]
  },
  {
   "cell_type": "code",
   "execution_count": 54,
   "id": "8f3f6a74",
   "metadata": {},
   "outputs": [],
   "source": [
    "inputfile=\"1.tif\"\n",
    "inputfile=\"F:\\\\IIRSOUTREACHPROGRAMME-2022-AIEO-main\\\\data\\\\1.tif\"\n",
    "point_path='./data/ClassPoints/rPoints/rPoints.shp'"
   ]
  },
  {
   "cell_type": "code",
   "execution_count": 55,
   "id": "b392abd7",
   "metadata": {},
   "outputs": [
    {
     "ename": "AttributeError",
     "evalue": "'NoneType' object has no attribute 'GetGeoTransform'",
     "output_type": "error",
     "traceback": [
      "\u001b[1;31m---------------------------------------------------------------------------\u001b[0m",
      "\u001b[1;31mAttributeError\u001b[0m                            Traceback (most recent call last)",
      "\u001b[1;32mf:\\IIRSOUTREACHPROGRAMME-2022-AIEO-main\\Lab 2- Classfication.ipynb Cell 5\u001b[0m line \u001b[0;36m2\n\u001b[0;32m      <a href='vscode-notebook-cell:/f%3A/IIRSOUTREACHPROGRAMME-2022-AIEO-main/Lab%202-%20Classfication.ipynb#W4sZmlsZQ%3D%3D?line=0'>1</a>\u001b[0m ds\u001b[39m=\u001b[39mgdal\u001b[39m.\u001b[39mOpen(inputfile)\n\u001b[1;32m----> <a href='vscode-notebook-cell:/f%3A/IIRSOUTREACHPROGRAMME-2022-AIEO-main/Lab%202-%20Classfication.ipynb#W4sZmlsZQ%3D%3D?line=1'>2</a>\u001b[0m trans\u001b[39m=\u001b[39mds\u001b[39m.\u001b[39;49mGetGeoTransform()\n\u001b[0;32m      <a href='vscode-notebook-cell:/f%3A/IIRSOUTREACHPROGRAMME-2022-AIEO-main/Lab%202-%20Classfication.ipynb#W4sZmlsZQ%3D%3D?line=2'>3</a>\u001b[0m data\u001b[39m=\u001b[39mds\u001b[39m.\u001b[39mReadAsArray()\n",
      "\u001b[1;31mAttributeError\u001b[0m: 'NoneType' object has no attribute 'GetGeoTransform'"
     ]
    }
   ],
   "source": [
    "\n",
    "ds=gdal.Open(inputfile)\n",
    "trans=ds.GetGeoTransform()\n",
    "data=ds.ReadAsArray()\n",
    "\n"
   ]
  },
  {
   "cell_type": "code",
   "execution_count": null,
   "id": "040ddf0d",
   "metadata": {},
   "outputs": [
    {
     "ename": "AttributeError",
     "evalue": "'NoneType' object has no attribute 'ReadAsArray'",
     "output_type": "error",
     "traceback": [
      "\u001b[1;31m---------------------------------------------------------------------------\u001b[0m",
      "\u001b[1;31mAttributeError\u001b[0m                            Traceback (most recent call last)",
      "\u001b[1;32mf:\\IIRSOUTREACHPROGRAMME-2022-AIEO-main\\Lab 2- Classfication.ipynb Cell 6\u001b[0m line \u001b[0;36m1\n\u001b[1;32m----> <a href='vscode-notebook-cell:/f%3A/IIRSOUTREACHPROGRAMME-2022-AIEO-main/Lab%202-%20Classfication.ipynb#W5sZmlsZQ%3D%3D?line=0'>1</a>\u001b[0m data\u001b[39m=\u001b[39mds\u001b[39m.\u001b[39;49mReadAsArray()\n\u001b[0;32m      <a href='vscode-notebook-cell:/f%3A/IIRSOUTREACHPROGRAMME-2022-AIEO-main/Lab%202-%20Classfication.ipynb#W5sZmlsZQ%3D%3D?line=1'>2</a>\u001b[0m data\u001b[39m.\u001b[39mshape\n",
      "\u001b[1;31mAttributeError\u001b[0m: 'NoneType' object has no attribute 'ReadAsArray'"
     ]
    }
   ],
   "source": [
    "data=ds.ReadAsArray()\n",
    "data.shape "
   ]
  },
  {
   "cell_type": "markdown",
   "id": "a5290845",
   "metadata": {},
   "source": [
    "## Do the subsetting\n"
   ]
  },
  {
   "cell_type": "code",
   "execution_count": null,
   "id": "02d7afdd",
   "metadata": {},
   "outputs": [
    {
     "ename": "NameError",
     "evalue": "name 'data' is not defined",
     "output_type": "error",
     "traceback": [
      "\u001b[1;31m---------------------------------------------------------------------------\u001b[0m",
      "\u001b[1;31mNameError\u001b[0m                                 Traceback (most recent call last)",
      "\u001b[1;32mf:\\IIRSOUTREACHPROGRAMME-2022-AIEO-main\\Lab 2- Classfication.ipynb Cell 8\u001b[0m line \u001b[0;36m1\n\u001b[1;32m----> <a href='vscode-notebook-cell:/f%3A/IIRSOUTREACHPROGRAMME-2022-AIEO-main/Lab%202-%20Classfication.ipynb#X10sZmlsZQ%3D%3D?line=0'>1</a>\u001b[0m data\u001b[39m=\u001b[39mdata[\u001b[39m0\u001b[39m:\u001b[39m7\u001b[39m,:,:]\n\u001b[0;32m      <a href='vscode-notebook-cell:/f%3A/IIRSOUTREACHPROGRAMME-2022-AIEO-main/Lab%202-%20Classfication.ipynb#X10sZmlsZQ%3D%3D?line=1'>2</a>\u001b[0m data\u001b[39m.\u001b[39mshape\n",
      "\u001b[1;31mNameError\u001b[0m: name 'data' is not defined"
     ]
    }
   ],
   "source": [
    "data=data[0:7,:,:]\n",
    "data.shape"
   ]
  },
  {
   "cell_type": "code",
   "execution_count": null,
   "id": "8ae6bd0b",
   "metadata": {},
   "outputs": [
    {
     "ename": "NameError",
     "evalue": "name 'data' is not defined",
     "output_type": "error",
     "traceback": [
      "\u001b[1;31m---------------------------------------------------------------------------\u001b[0m",
      "\u001b[1;31mNameError\u001b[0m                                 Traceback (most recent call last)",
      "\u001b[1;32mf:\\IIRSOUTREACHPROGRAMME-2022-AIEO-main\\Lab 2- Classfication.ipynb Cell 9\u001b[0m line \u001b[0;36m1\n\u001b[1;32m----> <a href='vscode-notebook-cell:/f%3A/IIRSOUTREACHPROGRAMME-2022-AIEO-main/Lab%202-%20Classfication.ipynb#X11sZmlsZQ%3D%3D?line=0'>1</a>\u001b[0m data\u001b[39m.\u001b[39mshape\n\u001b[0;32m      <a href='vscode-notebook-cell:/f%3A/IIRSOUTREACHPROGRAMME-2022-AIEO-main/Lab%202-%20Classfication.ipynb#X11sZmlsZQ%3D%3D?line=1'>2</a>\u001b[0m plt\u001b[39m.\u001b[39mimshow(data[\u001b[39m1\u001b[39m])\n",
      "\u001b[1;31mNameError\u001b[0m: name 'data' is not defined"
     ]
    }
   ],
   "source": [
    "data.shape\n",
    "plt.imshow(data[1]) #plot the sencon basdn"
   ]
  },
  {
   "cell_type": "code",
   "execution_count": null,
   "id": "6bd6d968",
   "metadata": {},
   "outputs": [
    {
     "ename": "NameError",
     "evalue": "name 'data' is not defined",
     "output_type": "error",
     "traceback": [
      "\u001b[1;31m---------------------------------------------------------------------------\u001b[0m",
      "\u001b[1;31mNameError\u001b[0m                                 Traceback (most recent call last)",
      "\u001b[1;32mf:\\IIRSOUTREACHPROGRAMME-2022-AIEO-main\\Lab 2- Classfication.ipynb Cell 10\u001b[0m line \u001b[0;36m2\n\u001b[0;32m      <a href='vscode-notebook-cell:/f%3A/IIRSOUTREACHPROGRAMME-2022-AIEO-main/Lab%202-%20Classfication.ipynb#X12sZmlsZQ%3D%3D?line=0'>1</a>\u001b[0m fig, ax \u001b[39m=\u001b[39m plt\u001b[39m.\u001b[39msubplots()\n\u001b[1;32m----> <a href='vscode-notebook-cell:/f%3A/IIRSOUTREACHPROGRAMME-2022-AIEO-main/Lab%202-%20Classfication.ipynb#X12sZmlsZQ%3D%3D?line=1'>2</a>\u001b[0m ax\u001b[39m.\u001b[39mplot(data[:,\u001b[39m5000\u001b[39m,\u001b[39m2000\u001b[39m]) \u001b[39m#Check the seven bands details at location 5000,2000\u001b[39;00m\n\u001b[0;32m      <a href='vscode-notebook-cell:/f%3A/IIRSOUTREACHPROGRAMME-2022-AIEO-main/Lab%202-%20Classfication.ipynb#X12sZmlsZQ%3D%3D?line=2'>3</a>\u001b[0m trans\u001b[39m=\u001b[39mds\u001b[39m.\u001b[39mGetGeoTransform()\n\u001b[0;32m      <a href='vscode-notebook-cell:/f%3A/IIRSOUTREACHPROGRAMME-2022-AIEO-main/Lab%202-%20Classfication.ipynb#X12sZmlsZQ%3D%3D?line=3'>4</a>\u001b[0m Xloc \u001b[39m=\u001b[39m trans[\u001b[39m1\u001b[39m] \u001b[39m*\u001b[39m \u001b[39m5000\u001b[39m \u001b[39m+\u001b[39m trans[\u001b[39m2\u001b[39m] \u001b[39m*\u001b[39m \u001b[39m2000\u001b[39m \u001b[39m+\u001b[39m trans[\u001b[39m0\u001b[39m];\n",
      "\u001b[1;31mNameError\u001b[0m: name 'data' is not defined"
     ]
    },
    {
     "data": {
      "image/png": "[encoded data removed]",
      "text/plain": [
       "<Figure size 640x480 with 1 Axes>"
      ]
     },
     "metadata": {},
     "output_type": "display_data"
    }
   ],
   "source": [
    "fig, ax = plt.subplots()\n",
    "ax.plot(data[:,5000,2000]) #Check the seven bands details at location 5000,2000\n",
    "trans=ds.GetGeoTransform()\n",
    "Xloc = trans[1] * 5000 + trans[2] * 2000 + trans[0];\n",
    "Yloc = trans[4] * 5000 + trans[5] * 2000 + trans[3];\n",
    "ax.set_xticks([0, 1, 2 ,3 , 4 , 5 ,6])\n",
    "labels=ax.set_xticklabels(['B1', 'B2', 'B3', 'B4', 'B5', 'B6','B7'])\n",
    "ax.set_title(f\"DN value at location ({Xloc} , {Yloc})\")\n",
    "ax.set_xlabel(\"Band No\")\n",
    "ax.set_ylabel(\"Band DN Value\")"
   ]
  },
  {
   "cell_type": "code",
   "execution_count": null,
   "id": "6e8c32af",
   "metadata": {},
   "outputs": [
    {
     "ename": "ImportError",
     "evalue": "The 'read_file' function requires the 'pyogrio' or 'fiona' package, but neither is installed or imports correctly.\nImporting fiona resulted in: DLL load failed while importing ogrext: The specified module could not be found.\nImporting pyogrio resulted in: No module named 'pyogrio'",
     "output_type": "error",
     "traceback": [
      "\u001b[1;31m---------------------------------------------------------------------------\u001b[0m",
      "\u001b[1;31mImportError\u001b[0m                               Traceback (most recent call last)",
      "\u001b[1;32mf:\\IIRSOUTREACHPROGRAMME-2022-AIEO-main\\Lab 2- Classfication.ipynb Cell 11\u001b[0m line \u001b[0;36m1\n\u001b[1;32m----> <a href='vscode-notebook-cell:/f%3A/IIRSOUTREACHPROGRAMME-2022-AIEO-main/Lab%202-%20Classfication.ipynb#X13sZmlsZQ%3D%3D?line=0'>1</a>\u001b[0m df\u001b[39m=\u001b[39mgdp\u001b[39m.\u001b[39;49mread_file(point_path)\n",
      "File \u001b[1;32mc:\\Users\\archanab\\.conda\\envs\\gdalenv\\lib\\site-packages\\geopandas\\io\\file.py:255\u001b[0m, in \u001b[0;36m_read_file\u001b[1;34m(filename, bbox, mask, rows, engine, **kwargs)\u001b[0m\n\u001b[0;32m    174\u001b[0m \u001b[39mdef\u001b[39;00m \u001b[39m_read_file\u001b[39m(filename, bbox\u001b[39m=\u001b[39m\u001b[39mNone\u001b[39;00m, mask\u001b[39m=\u001b[39m\u001b[39mNone\u001b[39;00m, rows\u001b[39m=\u001b[39m\u001b[39mNone\u001b[39;00m, engine\u001b[39m=\u001b[39m\u001b[39mNone\u001b[39;00m, \u001b[39m*\u001b[39m\u001b[39m*\u001b[39mkwargs):\n\u001b[0;32m    175\u001b[0m \u001b[39m    \u001b[39m\u001b[39m\"\"\"\u001b[39;00m\n\u001b[0;32m    176\u001b[0m \u001b[39m    Returns a GeoDataFrame from a file or URL.\u001b[39;00m\n\u001b[0;32m    177\u001b[0m \n\u001b[1;32m   (...)\u001b[0m\n\u001b[0;32m    253\u001b[0m \n\u001b[0;32m    254\u001b[0m \u001b[39m    \"\"\"\u001b[39;00m\n\u001b[1;32m--> 255\u001b[0m     engine \u001b[39m=\u001b[39m _check_engine(engine, \u001b[39m\"\u001b[39;49m\u001b[39m'\u001b[39;49m\u001b[39mread_file\u001b[39;49m\u001b[39m'\u001b[39;49m\u001b[39m function\u001b[39;49m\u001b[39m\"\u001b[39;49m)\n\u001b[0;32m    257\u001b[0m     filename \u001b[39m=\u001b[39m _expand_user(filename)\n\u001b[0;32m    259\u001b[0m     from_bytes \u001b[39m=\u001b[39m \u001b[39mFalse\u001b[39;00m\n",
      "File \u001b[1;32mc:\\Users\\archanab\\.conda\\envs\\gdalenv\\lib\\site-packages\\geopandas\\io\\file.py:114\u001b[0m, in \u001b[0;36m_check_engine\u001b[1;34m(engine, func)\u001b[0m\n\u001b[0;32m    112\u001b[0m     _check_pyogrio(func)\n\u001b[0;32m    113\u001b[0m \u001b[39melif\u001b[39;00m engine \u001b[39mis\u001b[39;00m \u001b[39mNone\u001b[39;00m:\n\u001b[1;32m--> 114\u001b[0m     \u001b[39mraise\u001b[39;00m \u001b[39mImportError\u001b[39;00m(\n\u001b[0;32m    115\u001b[0m         \u001b[39mf\u001b[39m\u001b[39m\"\u001b[39m\u001b[39mThe \u001b[39m\u001b[39m{\u001b[39;00mfunc\u001b[39m}\u001b[39;00m\u001b[39m requires the \u001b[39m\u001b[39m'\u001b[39m\u001b[39mpyogrio\u001b[39m\u001b[39m'\u001b[39m\u001b[39m or \u001b[39m\u001b[39m'\u001b[39m\u001b[39mfiona\u001b[39m\u001b[39m'\u001b[39m\u001b[39m package, \u001b[39m\u001b[39m\"\u001b[39m\n\u001b[0;32m    116\u001b[0m         \u001b[39m\"\u001b[39m\u001b[39mbut neither is installed or imports correctly.\u001b[39m\u001b[39m\"\u001b[39m\n\u001b[0;32m    117\u001b[0m         \u001b[39mf\u001b[39m\u001b[39m\"\u001b[39m\u001b[39m\\n\u001b[39;00m\u001b[39mImporting fiona resulted in: \u001b[39m\u001b[39m{\u001b[39;00mfiona_import_error\u001b[39m}\u001b[39;00m\u001b[39m\"\u001b[39m\n\u001b[0;32m    118\u001b[0m         \u001b[39mf\u001b[39m\u001b[39m\"\u001b[39m\u001b[39m\\n\u001b[39;00m\u001b[39mImporting pyogrio resulted in: \u001b[39m\u001b[39m{\u001b[39;00mpyogrio_import_error\u001b[39m}\u001b[39;00m\u001b[39m\"\u001b[39m\n\u001b[0;32m    119\u001b[0m     )\n\u001b[0;32m    121\u001b[0m \u001b[39mreturn\u001b[39;00m engine\n",
      "\u001b[1;31mImportError\u001b[0m: The 'read_file' function requires the 'pyogrio' or 'fiona' package, but neither is installed or imports correctly.\nImporting fiona resulted in: DLL load failed while importing ogrext: The specified module could not be found.\nImporting pyogrio resulted in: No module named 'pyogrio'"
     ]
    }
   ],
   "source": [
    "df=gdp.read_file(point_path)"
   ]
  },
  {
   "cell_type": "markdown",
   "id": "5605befe",
   "metadata": {},
   "source": [
    "To get the sample value of points at location(lat,long) we need to use the following formula\n",
    "- point.lon-raster.orgin.lon)/pixelsize\n",
    "- point.lat-raster.orgin.lat)/pixelsize\n"
   ]
  },
  {
   "cell_type": "code",
   "execution_count": null,
   "id": "05f384ab",
   "metadata": {},
   "outputs": [
    {
     "ename": "NameError",
     "evalue": "name 'trans' is not defined",
     "output_type": "error",
     "traceback": [
      "\u001b[1;31m---------------------------------------------------------------------------\u001b[0m",
      "\u001b[1;31mNameError\u001b[0m                                 Traceback (most recent call last)",
      "\u001b[1;32mf:\\IIRSOUTREACHPROGRAMME-2022-AIEO-main\\Lab 2- Classfication.ipynb Cell 13\u001b[0m line \u001b[0;36m1\n\u001b[1;32m----> <a href='vscode-notebook-cell:/f%3A/IIRSOUTREACHPROGRAMME-2022-AIEO-main/Lab%202-%20Classfication.ipynb#X15sZmlsZQ%3D%3D?line=0'>1</a>\u001b[0m \u001b[39mprint\u001b[39m(trans)\n",
      "\u001b[1;31mNameError\u001b[0m: name 'trans' is not defined"
     ]
    }
   ],
   "source": [
    "print(trans)"
   ]
  },
  {
   "cell_type": "code",
   "execution_count": null,
   "id": "bd9d1b4d",
   "metadata": {},
   "outputs": [],
   "source": [
    "def GetVal(X): #The function implements the above formual\n",
    "    lon=X.geometry.x\n",
    "    lat=X.geometry.y\n",
    "    r=int((trans[3]-lat)/trans[1])\n",
    "    c=int((trans[0]-lon)/trans[5])\n",
    "    return data[k,r,c]"
   ]
  },
  {
   "cell_type": "code",
   "execution_count": null,
   "id": "29e0b324",
   "metadata": {},
   "outputs": [
    {
     "ename": "NameError",
     "evalue": "name 'data' is not defined",
     "output_type": "error",
     "traceback": [
      "\u001b[1;31m---------------------------------------------------------------------------\u001b[0m",
      "\u001b[1;31mNameError\u001b[0m                                 Traceback (most recent call last)",
      "\u001b[1;32mf:\\IIRSOUTREACHPROGRAMME-2022-AIEO-main\\Lab 2- Classfication.ipynb Cell 15\u001b[0m line \u001b[0;36m1\n\u001b[1;32m----> <a href='vscode-notebook-cell:/f%3A/IIRSOUTREACHPROGRAMME-2022-AIEO-main/Lab%202-%20Classfication.ipynb#X20sZmlsZQ%3D%3D?line=0'>1</a>\u001b[0m noOfBands,_,_\u001b[39m=\u001b[39mdata\u001b[39m.\u001b[39mshape \u001b[39m#Get the number of bands in the data sets\u001b[39;00m\n\u001b[0;32m      <a href='vscode-notebook-cell:/f%3A/IIRSOUTREACHPROGRAMME-2022-AIEO-main/Lab%202-%20Classfication.ipynb#X20sZmlsZQ%3D%3D?line=1'>2</a>\u001b[0m \u001b[39mprint\u001b[39m(noOfBands)\n\u001b[0;32m      <a href='vscode-notebook-cell:/f%3A/IIRSOUTREACHPROGRAMME-2022-AIEO-main/Lab%202-%20Classfication.ipynb#X20sZmlsZQ%3D%3D?line=2'>3</a>\u001b[0m \u001b[39mfor\u001b[39;00m k \u001b[39min\u001b[39;00m \u001b[39mrange\u001b[39m(\u001b[39m0\u001b[39m,noOfBands): \u001b[39m#Get the bands values at sample location\u001b[39;00m\n",
      "\u001b[1;31mNameError\u001b[0m: name 'data' is not defined"
     ]
    }
   ],
   "source": [
    "noOfBands,_,_=data.shape #Get the number of bands in the data sets\n",
    "print(noOfBands)\n",
    "for k in range(0,noOfBands): #Get the bands values at sample location\n",
    "    df[\"b\"+str(k+1)]=df.apply(GetVal,axis='columns')"
   ]
  },
  {
   "cell_type": "code",
   "execution_count": null,
   "id": "ff8565ee",
   "metadata": {},
   "outputs": [
    {
     "ename": "NameError",
     "evalue": "name 'df' is not defined",
     "output_type": "error",
     "traceback": [
      "\u001b[1;31m---------------------------------------------------------------------------\u001b[0m",
      "\u001b[1;31mNameError\u001b[0m                                 Traceback (most recent call last)",
      "\u001b[1;32mf:\\IIRSOUTREACHPROGRAMME-2022-AIEO-main\\Lab 2- Classfication.ipynb Cell 16\u001b[0m line \u001b[0;36m1\n\u001b[1;32m----> <a href='vscode-notebook-cell:/f%3A/IIRSOUTREACHPROGRAMME-2022-AIEO-main/Lab%202-%20Classfication.ipynb#X21sZmlsZQ%3D%3D?line=0'>1</a>\u001b[0m df\u001b[39m.\u001b[39mhead(\u001b[39m3\u001b[39m)\n",
      "\u001b[1;31mNameError\u001b[0m: name 'df' is not defined"
     ]
    }
   ],
   "source": [
    "df.head(3) #Print the details of data "
   ]
  },
  {
   "cell_type": "markdown",
   "id": "35b2dd98",
   "metadata": {},
   "source": [
    "## Prepare the feautures and target \n",
    "For random Forest classfication from the sample points features and targets are created"
   ]
  },
  {
   "cell_type": "code",
   "execution_count": null,
   "id": "eb61b118",
   "metadata": {},
   "outputs": [
    {
     "ename": "NameError",
     "evalue": "name 'df' is not defined",
     "output_type": "error",
     "traceback": [
      "\u001b[1;31m---------------------------------------------------------------------------\u001b[0m",
      "\u001b[1;31mNameError\u001b[0m                                 Traceback (most recent call last)",
      "\u001b[1;32mf:\\IIRSOUTREACHPROGRAMME-2022-AIEO-main\\Lab 2- Classfication.ipynb Cell 18\u001b[0m line \u001b[0;36m1\n\u001b[1;32m----> <a href='vscode-notebook-cell:/f%3A/IIRSOUTREACHPROGRAMME-2022-AIEO-main/Lab%202-%20Classfication.ipynb#X23sZmlsZQ%3D%3D?line=0'>1</a>\u001b[0m feature\u001b[39m=\u001b[39mdf[[\u001b[39m'\u001b[39m\u001b[39mb1\u001b[39m\u001b[39m'\u001b[39m,\u001b[39m'\u001b[39m\u001b[39mb2\u001b[39m\u001b[39m'\u001b[39m,\u001b[39m'\u001b[39m\u001b[39mb3\u001b[39m\u001b[39m'\u001b[39m,\u001b[39m'\u001b[39m\u001b[39mb4\u001b[39m\u001b[39m'\u001b[39m,\u001b[39m'\u001b[39m\u001b[39mb5\u001b[39m\u001b[39m'\u001b[39m,\u001b[39m'\u001b[39m\u001b[39mb6\u001b[39m\u001b[39m'\u001b[39m,\u001b[39m'\u001b[39m\u001b[39mb7\u001b[39m\u001b[39m'\u001b[39m]]\u001b[39m.\u001b[39mvalues \u001b[39m#For sample point locatin  a feature vector contains the \u001b[39;00m\n\u001b[0;32m      <a href='vscode-notebook-cell:/f%3A/IIRSOUTREACHPROGRAMME-2022-AIEO-main/Lab%202-%20Classfication.ipynb#X23sZmlsZQ%3D%3D?line=1'>2</a>\u001b[0m \u001b[39m#informaion of only bands DN values\u001b[39;00m\n\u001b[0;32m      <a href='vscode-notebook-cell:/f%3A/IIRSOUTREACHPROGRAMME-2022-AIEO-main/Lab%202-%20Classfication.ipynb#X23sZmlsZQ%3D%3D?line=2'>3</a>\u001b[0m target\u001b[39m=\u001b[39mdf[\u001b[39m'\u001b[39m\u001b[39mClass\u001b[39m\u001b[39m'\u001b[39m]\u001b[39m.\u001b[39mvalues\n",
      "\u001b[1;31mNameError\u001b[0m: name 'df' is not defined"
     ]
    }
   ],
   "source": [
    "feature=df[['b1','b2','b3','b4','b5','b6','b7']].values #For sample point locatin  a feature vector contains the \n",
    "#informaion of only bands DN values\n",
    "target=df['Class'].values #The class target label is subset"
   ]
  },
  {
   "cell_type": "code",
   "execution_count": null,
   "id": "cbe6d032",
   "metadata": {},
   "outputs": [
    {
     "ename": "NameError",
     "evalue": "name 'target' is not defined",
     "output_type": "error",
     "traceback": [
      "\u001b[1;31m---------------------------------------------------------------------------\u001b[0m",
      "\u001b[1;31mNameError\u001b[0m                                 Traceback (most recent call last)",
      "\u001b[1;32mf:\\IIRSOUTREACHPROGRAMME-2022-AIEO-main\\Lab 2- Classfication.ipynb Cell 19\u001b[0m line \u001b[0;36m1\n\u001b[1;32m----> <a href='vscode-notebook-cell:/f%3A/IIRSOUTREACHPROGRAMME-2022-AIEO-main/Lab%202-%20Classfication.ipynb#X24sZmlsZQ%3D%3D?line=0'>1</a>\u001b[0m \u001b[39mprint\u001b[39m(target)\n",
      "\u001b[1;31mNameError\u001b[0m: name 'target' is not defined"
     ]
    }
   ],
   "source": [
    "print(target)"
   ]
  },
  {
   "cell_type": "code",
   "execution_count": null,
   "id": "9acc78df",
   "metadata": {},
   "outputs": [
    {
     "data": {
      "text/plain": [
       "(100,)"
      ]
     },
     "execution_count": 17,
     "metadata": {},
     "output_type": "execute_result"
    }
   ],
   "source": [
    "target.shape #Confirm there are 100 sampel points"
   ]
  },
  {
   "cell_type": "markdown",
   "id": "0eaf1ecf",
   "metadata": {},
   "source": [
    "## Setup the random forest classfier \n",
    "The number of trees in the forest is set 100. The maximum depth of the tree is set to the number of each feature constituent which is 7(no of columns in feature vectors).The minimum number of samples required to split an internal node:is set to 4. The split criterion is set to default (\"gini\").The number of jobs to run in parallel for exploiting the multiprocessor cores of machine.Random_state is set to 1. It controls both the randomness of the bootstrapping of the samples used when building trees. For details of parameter refer to [link](https://scikit-learn.org/stable/modules/generated/sklearn.ensemble.RandomForestClassifier.html)"
   ]
  },
  {
   "cell_type": "code",
   "execution_count": null,
   "id": "fd0e8c0b",
   "metadata": {},
   "outputs": [
    {
     "ename": "NameError",
     "evalue": "name 'ensemble' is not defined",
     "output_type": "error",
     "traceback": [
      "\u001b[1;31m---------------------------------------------------------------------------\u001b[0m",
      "\u001b[1;31mNameError\u001b[0m                                 Traceback (most recent call last)",
      "\u001b[1;32mf:\\IIRSOUTREACHPROGRAMME-2022-AIEO-main\\Lab 2- Classfication.ipynb Cell 22\u001b[0m line \u001b[0;36m1\n\u001b[1;32m----> <a href='vscode-notebook-cell:/f%3A/IIRSOUTREACHPROGRAMME-2022-AIEO-main/Lab%202-%20Classfication.ipynb#X30sZmlsZQ%3D%3D?line=0'>1</a>\u001b[0m forest\u001b[39m=\u001b[39mensemble\u001b[39m.\u001b[39mRandomForestClassifier(n_estimators\u001b[39m=\u001b[39m\u001b[39m100\u001b[39m,  \n\u001b[0;32m      <a href='vscode-notebook-cell:/f%3A/IIRSOUTREACHPROGRAMME-2022-AIEO-main/Lab%202-%20Classfication.ipynb#X30sZmlsZQ%3D%3D?line=1'>2</a>\u001b[0m                                       min_samples_split\u001b[39m=\u001b[39m\u001b[39m4\u001b[39m,\n\u001b[0;32m      <a href='vscode-notebook-cell:/f%3A/IIRSOUTREACHPROGRAMME-2022-AIEO-main/Lab%202-%20Classfication.ipynb#X30sZmlsZQ%3D%3D?line=2'>3</a>\u001b[0m                                       max_depth\u001b[39m=\u001b[39m\u001b[39m7\u001b[39m,\n\u001b[0;32m      <a href='vscode-notebook-cell:/f%3A/IIRSOUTREACHPROGRAMME-2022-AIEO-main/Lab%202-%20Classfication.ipynb#X30sZmlsZQ%3D%3D?line=3'>4</a>\u001b[0m                                       random_state\u001b[39m=\u001b[39m\u001b[39m1\u001b[39m,\n\u001b[0;32m      <a href='vscode-notebook-cell:/f%3A/IIRSOUTREACHPROGRAMME-2022-AIEO-main/Lab%202-%20Classfication.ipynb#X30sZmlsZQ%3D%3D?line=4'>5</a>\u001b[0m                                       n_jobs\u001b[39m=\u001b[39m\u001b[39m-\u001b[39m\u001b[39m1\u001b[39m)\n",
      "\u001b[1;31mNameError\u001b[0m: name 'ensemble' is not defined"
     ]
    }
   ],
   "source": [
    "forest=ensemble.RandomForestClassifier(n_estimators=100,  \n",
    "                                      min_samples_split=4,\n",
    "                                      max_depth=7,\n",
    "                                      random_state=1,\n",
    "                                      n_jobs=-1)"
   ]
  },
  {
   "cell_type": "code",
   "execution_count": null,
   "id": "0cdb9ece",
   "metadata": {},
   "outputs": [
    {
     "ename": "NameError",
     "evalue": "name 'forest' is not defined",
     "output_type": "error",
     "traceback": [
      "\u001b[1;31m---------------------------------------------------------------------------\u001b[0m",
      "\u001b[1;31mNameError\u001b[0m                                 Traceback (most recent call last)",
      "\u001b[1;32mf:\\IIRSOUTREACHPROGRAMME-2022-AIEO-main\\Lab 2- Classfication.ipynb Cell 23\u001b[0m line \u001b[0;36m1\n\u001b[1;32m----> <a href='vscode-notebook-cell:/f%3A/IIRSOUTREACHPROGRAMME-2022-AIEO-main/Lab%202-%20Classfication.ipynb#X31sZmlsZQ%3D%3D?line=0'>1</a>\u001b[0m forest\u001b[39m=\u001b[39mforest\u001b[39m.\u001b[39mfit(feature,target)\n",
      "\u001b[1;31mNameError\u001b[0m: name 'forest' is not defined"
     ]
    }
   ],
   "source": [
    "forest=forest.fit(feature,target)"
   ]
  },
  {
   "cell_type": "code",
   "execution_count": null,
   "id": "8969381e",
   "metadata": {},
   "outputs": [
    {
     "ename": "NameError",
     "evalue": "name 'forest' is not defined",
     "output_type": "error",
     "traceback": [
      "\u001b[1;31m---------------------------------------------------------------------------\u001b[0m",
      "\u001b[1;31mNameError\u001b[0m                                 Traceback (most recent call last)",
      "\u001b[1;32mf:\\IIRSOUTREACHPROGRAMME-2022-AIEO-main\\Lab 2- Classfication.ipynb Cell 24\u001b[0m line \u001b[0;36m1\n\u001b[1;32m----> <a href='vscode-notebook-cell:/f%3A/IIRSOUTREACHPROGRAMME-2022-AIEO-main/Lab%202-%20Classfication.ipynb#X32sZmlsZQ%3D%3D?line=0'>1</a>\u001b[0m \u001b[39mprint\u001b[39m(forest\u001b[39m.\u001b[39mscore(feature,target))\n",
      "\u001b[1;31mNameError\u001b[0m: name 'forest' is not defined"
     ]
    }
   ],
   "source": [
    "print(forest.score(feature,target)) #Testing with same data. Cautions this will be biased. You willneed "
   ]
  },
  {
   "cell_type": "markdown",
   "id": "919085fc",
   "metadata": {},
   "source": [
    "Feature importances are provided by the fitted attribute feature_importances_ and they are computed as the mean and standard deviation of accumulation of the impurity decrease within each tree."
   ]
  },
  {
   "cell_type": "code",
   "execution_count": null,
   "id": "d6992895",
   "metadata": {},
   "outputs": [
    {
     "ename": "NameError",
     "evalue": "name 'forest' is not defined",
     "output_type": "error",
     "traceback": [
      "\u001b[1;31m---------------------------------------------------------------------------\u001b[0m",
      "\u001b[1;31mNameError\u001b[0m                                 Traceback (most recent call last)",
      "\u001b[1;32mf:\\IIRSOUTREACHPROGRAMME-2022-AIEO-main\\Lab 2- Classfication.ipynb Cell 26\u001b[0m line \u001b[0;36m1\n\u001b[1;32m----> <a href='vscode-notebook-cell:/f%3A/IIRSOUTREACHPROGRAMME-2022-AIEO-main/Lab%202-%20Classfication.ipynb#X34sZmlsZQ%3D%3D?line=0'>1</a>\u001b[0m \u001b[39mprint\u001b[39m(forest\u001b[39m.\u001b[39mfeature_importances_)\n\u001b[0;32m      <a href='vscode-notebook-cell:/f%3A/IIRSOUTREACHPROGRAMME-2022-AIEO-main/Lab%202-%20Classfication.ipynb#X34sZmlsZQ%3D%3D?line=1'>2</a>\u001b[0m pram_rang\u001b[39m=\u001b[39mnp\u001b[39m.\u001b[39marange(\u001b[39m1\u001b[39m,\u001b[39m250\u001b[39m,\u001b[39m10\u001b[39m)\n",
      "\u001b[1;31mNameError\u001b[0m: name 'forest' is not defined"
     ]
    }
   ],
   "source": [
    "print(forest.feature_importances_)\n",
    "pram_rang=np.arange(1,250,10)"
   ]
  },
  {
   "cell_type": "code",
   "execution_count": null,
   "id": "7aaa3efe",
   "metadata": {},
   "outputs": [
    {
     "ename": "ModuleNotFoundError",
     "evalue": "No module named 'sklearn'",
     "output_type": "error",
     "traceback": [
      "\u001b[1;31m---------------------------------------------------------------------------\u001b[0m",
      "\u001b[1;31mModuleNotFoundError\u001b[0m                       Traceback (most recent call last)",
      "\u001b[1;32mf:\\IIRSOUTREACHPROGRAMME-2022-AIEO-main\\Lab 2- Classfication.ipynb Cell 27\u001b[0m line \u001b[0;36m1\n\u001b[1;32m----> <a href='vscode-notebook-cell:/f%3A/IIRSOUTREACHPROGRAMME-2022-AIEO-main/Lab%202-%20Classfication.ipynb#X35sZmlsZQ%3D%3D?line=0'>1</a>\u001b[0m \u001b[39mfrom\u001b[39;00m \u001b[39msklearn\u001b[39;00m\u001b[39m.\u001b[39;00m\u001b[39mmodel_selection\u001b[39;00m \u001b[39mimport\u001b[39;00m validation_curve\n",
      "\u001b[1;31mModuleNotFoundError\u001b[0m: No module named 'sklearn'"
     ]
    }
   ],
   "source": [
    "from sklearn.model_selection import validation_curve"
   ]
  },
  {
   "cell_type": "markdown",
   "id": "89d7042f",
   "metadata": {},
   "source": [
    "## Validation steps\n",
    "Validation curves carry outs the hyperparamter search.Here are using to get the tranning scores.The details can be found at [link](https://scikit-learn.org/stable/modules/generated/sklearn.model_selection.validation_curve.html)"
   ]
  },
  {
   "cell_type": "code",
   "execution_count": null,
   "id": "2d052227",
   "metadata": {},
   "outputs": [
    {
     "name": "stderr",
     "output_type": "stream",
     "text": [
      "/Users/ashutosh/opt/anaconda3/envs/eoai/lib/python3.7/site-packages/sklearn/model_selection/_split.py:680: UserWarning: The least populated class in y has only 1 members, which is less than n_splits=3.\n",
      "  UserWarning,\n"
     ]
    }
   ],
   "source": [
    "train_score,test_score=validation_curve(forest,feature,target,\n",
    "                                        param_name='n_estimators',\n",
    "                                        param_range=pram_rang,\n",
    "                                        cv=3,\n",
    "                                        scoring='accuracy',\n",
    "                                        n_jobs=-1) "
   ]
  },
  {
   "cell_type": "code",
   "execution_count": null,
   "id": "8411b8cf",
   "metadata": {},
   "outputs": [],
   "source": [
    "test_mean=np.mean(test_score,axis=1)\n",
    "train_mean=np.mean(train_score,axis=1)"
   ]
  },
  {
   "cell_type": "code",
   "execution_count": null,
   "id": "6da9eac2",
   "metadata": {},
   "outputs": [
    {
     "name": "stdout",
     "output_type": "stream",
     "text": [
      "[0.72043969 0.82085561 0.83095663 0.83095663 0.83095663 0.84076055\n",
      " 0.84076055 0.85086156 0.84076055 0.83095663 0.85086156 0.85086156\n",
      " 0.85086156 0.84076055 0.84076055 0.84076055 0.84076055 0.84076055\n",
      " 0.85086156 0.85086156 0.84076055 0.84076055 0.84076055 0.84076055\n",
      " 0.84076055]\n",
      "[0.85526911 0.935248   0.95017338 0.95017338 0.95017338 0.94519825\n",
      " 0.9551485  0.95507312 0.96012362 0.96012362 0.97007387 0.96509875\n",
      " 0.96012362 0.96012362 0.96012362 0.96012362 0.96012362 0.95507312\n",
      " 0.95507312 0.95507312 0.95507312 0.95507312 0.95507312 0.95507312\n",
      " 0.95507312]\n"
     ]
    }
   ],
   "source": [
    "print(test_mean)\n",
    "print(train_mean)"
   ]
  },
  {
   "cell_type": "code",
   "execution_count": null,
   "id": "26b5dfcd",
   "metadata": {},
   "outputs": [
    {
     "data": {
      "text/plain": [
       "[<matplotlib.lines.Line2D at 0x7f8ac143b890>]"
      ]
     },
     "execution_count": 26,
     "metadata": {},
     "output_type": "execute_result"
    },
    {
     "data": {
      "image/png": "[encoded data removed]",
      "text/plain": [
       "<Figure size 432x288 with 1 Axes>"
      ]
     },
     "metadata": {
      "needs_background": "light"
     },
     "output_type": "display_data"
    }
   ],
   "source": [
    "plt.plot(pram_rang,test_mean,label=\"CV_Score\", color='red')\n",
    "plt.plot(pram_rang,train_mean,label=\"Tranning Score\",color='black')"
   ]
  },
  {
   "cell_type": "markdown",
   "id": "d3809d76",
   "metadata": {},
   "source": [
    "# Checking a sample of forest"
   ]
  },
  {
   "cell_type": "code",
   "execution_count": null,
   "id": "27f2ba7a",
   "metadata": {},
   "outputs": [
    {
     "data": {
      "text/plain": [
       "array([3])"
      ]
     },
     "execution_count": 27,
     "metadata": {},
     "output_type": "execute_result"
    }
   ],
   "source": [
    "sample=np.array([8587,8031,7542,7427,13455,11577,8731]).reshape(1,-1)\n",
    "forest.predict(sample)"
   ]
  },
  {
   "cell_type": "markdown",
   "id": "13105d70",
   "metadata": {},
   "source": [
    "# Applying for all pixel of image"
   ]
  },
  {
   "cell_type": "code",
   "execution_count": null,
   "id": "09d68d5c",
   "metadata": {},
   "outputs": [],
   "source": [
    "ouputdata=np.zeros((7911,7771)) #Data place to keep the classifed image data"
   ]
  },
  {
   "cell_type": "code",
   "execution_count": null,
   "id": "975160d7",
   "metadata": {},
   "outputs": [],
   "source": [
    "for r in range(7911):\n",
    "    print(f'processing row {r}')\n",
    "    for c in range(7771):\n",
    "        pred=data[:,r,c].reshape(1,-1)\n",
    "        ouputdata[r,c]=forest.predict(pred)"
   ]
  },
  {
   "cell_type": "code",
   "execution_count": null,
   "id": "383efd36",
   "metadata": {},
   "outputs": [],
   "source": [
    "plt.imshow(ouputdata)"
   ]
  },
  {
   "cell_type": "code",
   "execution_count": null,
   "id": "8c8a2bcc",
   "metadata": {},
   "outputs": [],
   "source": []
  }
 ],
 "metadata": {
  "kernelspec": {
   "display_name": "Python 3 (ipykernel)",
   "language": "python",
   "name": "python3"
  },
  "language_info": {
   "codemirror_mode": {
    "name": "ipython",
    "version": 3
   },
   "file_extension": ".py",
   "mimetype": "text/x-python",
   "name": "python",
   "nbconvert_exporter": "python",
   "pygments_lexer": "ipython3",
   "version": "3.8.18"
  }
 },
 "nbformat": 4,
 "nbformat_minor": 5
}
